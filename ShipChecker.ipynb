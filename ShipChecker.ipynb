{
 "cells": [
  {
   "cell_type": "markdown",
   "metadata": {},
   "source": [
    "# ShipChecker"
   ]
  },
  {
   "cell_type": "markdown",
   "metadata": {},
   "source": [
    "## Configuration"
   ]
  },
  {
   "cell_type": "code",
   "execution_count": 41,
   "metadata": {},
   "outputs": [],
   "source": [
    "## raw data path\n",
    "rawDataPath = './portData/rawData.txt'\n",
    "\n",
    "## google search api path\n",
    "googleSearchApiPath = '../googleSearchApi.txt'\n",
    "## google search custom search engine id\n",
    "googleSearchCseIdPath = '../googleSearchCSE.txt'\n",
    "\n",
    "#Processingdata path\n",
    "processingDataPath = './portData/processingData.csv'"
   ]
  },
  {
   "cell_type": "code",
   "execution_count": 25,
   "metadata": {},
   "outputs": [],
   "source": [
    "import pandas as pd\n",
    "import re\n",
    "from googleapiclient.discovery import build"
   ]
  },
  {
   "cell_type": "markdown",
   "metadata": {},
   "source": [
    "## Load data"
   ]
  },
  {
   "cell_type": "code",
   "execution_count": 10,
   "metadata": {},
   "outputs": [
    {
     "data": {
      "text/html": [
       "<div>\n",
       "<style scoped>\n",
       "    .dataframe tbody tr th:only-of-type {\n",
       "        vertical-align: middle;\n",
       "    }\n",
       "\n",
       "    .dataframe tbody tr th {\n",
       "        vertical-align: top;\n",
       "    }\n",
       "\n",
       "    .dataframe thead th {\n",
       "        text-align: right;\n",
       "    }\n",
       "</style>\n",
       "<table border=\"1\" class=\"dataframe\">\n",
       "  <thead>\n",
       "    <tr style=\"text-align: right;\">\n",
       "      <th></th>\n",
       "      <th>DATE &amp; TIME</th>\n",
       "      <th>ARRIVAL / DEPARTURE</th>\n",
       "      <th>VESSEL</th>\n",
       "      <th>VESSEL TYPE</th>\n",
       "      <th>FROM</th>\n",
       "      <th>TO</th>\n",
       "      <th>IN PORT</th>\n",
       "    </tr>\n",
       "  </thead>\n",
       "  <tbody>\n",
       "    <tr>\n",
       "      <th>0</th>\n",
       "      <td>Wed 20 Mar 20:00</td>\n",
       "      <td>ARRIVAL</td>\n",
       "      <td>KOTA LIMA</td>\n",
       "      <td>CONTAINER SHIP (FULLY CELLULAR)</td>\n",
       "      <td>CHIWAN PT</td>\n",
       "      <td>12 BROTHERSON DOCK (BD12)</td>\n",
       "      <td>NO</td>\n",
       "    </tr>\n",
       "    <tr>\n",
       "      <th>1</th>\n",
       "      <td>Wed 20 Mar 22:00</td>\n",
       "      <td>ARRIVAL</td>\n",
       "      <td>MSC KANU F</td>\n",
       "      <td>CONTAINER SHIP (FULLY CELLULAR)</td>\n",
       "      <td>BELL BAY</td>\n",
       "      <td>9 BROTHERSON DOCK (BD9)</td>\n",
       "      <td>NO</td>\n",
       "    </tr>\n",
       "    <tr>\n",
       "      <th>2</th>\n",
       "      <td>Thu 21 Mar 03:00</td>\n",
       "      <td>ARRIVAL</td>\n",
       "      <td>WIDE INDIA</td>\n",
       "      <td>CONTAINER SHIP (FULLY CELLULAR)</td>\n",
       "      <td>AUCKLAND</td>\n",
       "      <td>7 BROTHERSON DOCK (BD7)</td>\n",
       "      <td>NO</td>\n",
       "    </tr>\n",
       "    <tr>\n",
       "      <th>3</th>\n",
       "      <td>Thu 21 Mar 15:00</td>\n",
       "      <td>ARRIVAL</td>\n",
       "      <td>GASCHEM HOMER</td>\n",
       "      <td>LPG TANKER</td>\n",
       "      <td>BRISBANE</td>\n",
       "      <td>BULK LIQUID BERTH 1 (BLB1)</td>\n",
       "      <td>NO</td>\n",
       "    </tr>\n",
       "    <tr>\n",
       "      <th>4</th>\n",
       "      <td>Thu 21 Mar 17:00</td>\n",
       "      <td>ARRIVAL</td>\n",
       "      <td>MARI COUVA</td>\n",
       "      <td>CHEMICAL/PRODUCTS TANKER</td>\n",
       "      <td>ONSAN/ULSAN</td>\n",
       "      <td>BULK LIQUID BERTH 1 (BLB1)</td>\n",
       "      <td>NO</td>\n",
       "    </tr>\n",
       "  </tbody>\n",
       "</table>\n",
       "</div>"
      ],
      "text/plain": [
       "        DATE & TIME ARRIVAL / DEPARTURE         VESSEL  \\\n",
       "0  Wed 20 Mar 20:00             ARRIVAL      KOTA LIMA   \n",
       "1  Wed 20 Mar 22:00             ARRIVAL     MSC KANU F   \n",
       "2  Thu 21 Mar 03:00             ARRIVAL     WIDE INDIA   \n",
       "3  Thu 21 Mar 15:00             ARRIVAL  GASCHEM HOMER   \n",
       "4  Thu 21 Mar 17:00             ARRIVAL     MARI COUVA   \n",
       "\n",
       "                       VESSEL TYPE         FROM                          TO  \\\n",
       "0  CONTAINER SHIP (FULLY CELLULAR)    CHIWAN PT   12 BROTHERSON DOCK (BD12)   \n",
       "1  CONTAINER SHIP (FULLY CELLULAR)     BELL BAY     9 BROTHERSON DOCK (BD9)   \n",
       "2  CONTAINER SHIP (FULLY CELLULAR)     AUCKLAND     7 BROTHERSON DOCK (BD7)   \n",
       "3                       LPG TANKER     BRISBANE  BULK LIQUID BERTH 1 (BLB1)   \n",
       "4         CHEMICAL/PRODUCTS TANKER  ONSAN/ULSAN  BULK LIQUID BERTH 1 (BLB1)   \n",
       "\n",
       "  IN PORT  \n",
       "0      NO  \n",
       "1      NO  \n",
       "2      NO  \n",
       "3      NO  \n",
       "4      NO  "
      ]
     },
     "execution_count": 10,
     "metadata": {},
     "output_type": "execute_result"
    }
   ],
   "source": [
    "# load raw data and show the first 5 rows\n",
    "rawData = pd.read_csv(rawDataPath, sep='\\t')\n",
    "rawData.head(5)"
   ]
  },
  {
   "cell_type": "code",
   "execution_count": 11,
   "metadata": {},
   "outputs": [
    {
     "name": "stdout",
     "output_type": "stream",
     "text": [
      "AIzaS\n",
      "e0f84b16165d14dc2\n"
     ]
    }
   ],
   "source": [
    "# load google search api key and custom search engine id\n",
    "googleApiKey = open(googleSearchApiPath, 'r').read()\n",
    "print(googleApiKey[:5])\n",
    "googleSearchCseId = open(googleSearchCseIdPath, 'r').read()\n",
    "print(googleSearchCseId)"
   ]
  },
  {
   "cell_type": "code",
   "execution_count": 37,
   "metadata": {},
   "outputs": [],
   "source": [
    "# google search function and data extraction\n",
    "\n",
    "api_key = googleApiKey\n",
    "cse_id = googleSearchCseId\n",
    "\n",
    "def google_search(search_term, api_key, cse_id, **kwargs):\n",
    "    service = build(\"customsearch\", \"v1\", developerKey=api_key)\n",
    "    res = service.cse().list(q=search_term, cx=cse_id, **kwargs).execute()\n",
    "    return res\n",
    "\n",
    "def get_link(results):\n",
    "    link = results['items'][0]['link']\n",
    "    return link\n",
    "    \n",
    "def get_snippet(results):\n",
    "    snippet = results['items'][0]['snippet']\n",
    "    return snippet\n",
    "\n",
    "def get_IMO_number(snippet):\n",
    "    imo_number_match = re.search(r'IMO number, (\\d+)', snippet)\n",
    "    if imo_number_match:\n",
    "        imo_number = imo_number_match.group(1)\n",
    "    else:\n",
    "        imo_number = None  \n",
    "    return imo_number\n",
    "\n",
    "def get_vessel_details(vessel_name):\n",
    "    search_query = f\"what is imo number for {vessel_name}\"\n",
    "    results = google_search(search_query, api_key, cse_id)\n",
    "    link = get_link(results)\n",
    "    snippet = get_snippet(results)\n",
    "    imo_number = get_IMO_number(snippet)\n",
    "    \n",
    "    return link, snippet, imo_number"
   ]
  },
  {
   "cell_type": "code",
   "execution_count": 39,
   "metadata": {},
   "outputs": [
    {
     "name": "stderr",
     "output_type": "stream",
     "text": [
      "C:\\Users\\admin\\AppData\\Local\\Temp\\ipykernel_10720\\2817326180.py:3: SettingWithCopyWarning: \n",
      "A value is trying to be set on a copy of a slice from a DataFrame.\n",
      "Try using .loc[row_indexer,col_indexer] = value instead\n",
      "\n",
      "See the caveats in the documentation: https://pandas.pydata.org/pandas-docs/stable/user_guide/indexing.html#returning-a-view-versus-a-copy\n",
      "  processingData[['link','snippet','imo_number']] = processingData.apply(lambda row: get_vessel_details(row['VESSEL']), axis=1, result_type='expand')\n",
      "C:\\Users\\admin\\AppData\\Local\\Temp\\ipykernel_10720\\2817326180.py:3: SettingWithCopyWarning: \n",
      "A value is trying to be set on a copy of a slice from a DataFrame.\n",
      "Try using .loc[row_indexer,col_indexer] = value instead\n",
      "\n",
      "See the caveats in the documentation: https://pandas.pydata.org/pandas-docs/stable/user_guide/indexing.html#returning-a-view-versus-a-copy\n",
      "  processingData[['link','snippet','imo_number']] = processingData.apply(lambda row: get_vessel_details(row['VESSEL']), axis=1, result_type='expand')\n"
     ]
    },
    {
     "data": {
      "text/html": [
       "<div>\n",
       "<style scoped>\n",
       "    .dataframe tbody tr th:only-of-type {\n",
       "        vertical-align: middle;\n",
       "    }\n",
       "\n",
       "    .dataframe tbody tr th {\n",
       "        vertical-align: top;\n",
       "    }\n",
       "\n",
       "    .dataframe thead th {\n",
       "        text-align: right;\n",
       "    }\n",
       "</style>\n",
       "<table border=\"1\" class=\"dataframe\">\n",
       "  <thead>\n",
       "    <tr style=\"text-align: right;\">\n",
       "      <th></th>\n",
       "      <th>DATE &amp; TIME</th>\n",
       "      <th>ARRIVAL / DEPARTURE</th>\n",
       "      <th>VESSEL</th>\n",
       "      <th>VESSEL TYPE</th>\n",
       "      <th>FROM</th>\n",
       "      <th>TO</th>\n",
       "      <th>IN PORT</th>\n",
       "      <th>link</th>\n",
       "      <th>imo_number</th>\n",
       "      <th>snippet</th>\n",
       "    </tr>\n",
       "  </thead>\n",
       "  <tbody>\n",
       "    <tr>\n",
       "      <th>0</th>\n",
       "      <td>Wed 20 Mar 20:00</td>\n",
       "      <td>ARRIVAL</td>\n",
       "      <td>KOTA LIMA</td>\n",
       "      <td>CONTAINER SHIP (FULLY CELLULAR)</td>\n",
       "      <td>CHIWAN PT</td>\n",
       "      <td>12 BROTHERSON DOCK (BD12)</td>\n",
       "      <td>NO</td>\n",
       "      <td>https://www.vesselfinder.com/vessels/details/9...</td>\n",
       "      <td>9267651</td>\n",
       "      <td>IMO number, 9267651. Vessel Name, KOTA LIMA. S...</td>\n",
       "    </tr>\n",
       "  </tbody>\n",
       "</table>\n",
       "</div>"
      ],
      "text/plain": [
       "        DATE & TIME ARRIVAL / DEPARTURE     VESSEL  \\\n",
       "0  Wed 20 Mar 20:00             ARRIVAL  KOTA LIMA   \n",
       "\n",
       "                       VESSEL TYPE       FROM                         TO  \\\n",
       "0  CONTAINER SHIP (FULLY CELLULAR)  CHIWAN PT  12 BROTHERSON DOCK (BD12)   \n",
       "\n",
       "  IN PORT                                               link imo_number  \\\n",
       "0      NO  https://www.vesselfinder.com/vessels/details/9...    9267651   \n",
       "\n",
       "                                             snippet  \n",
       "0  IMO number, 9267651. Vessel Name, KOTA LIMA. S...  "
      ]
     },
     "execution_count": 39,
     "metadata": {},
     "output_type": "execute_result"
    }
   ],
   "source": [
    "processingData = rawData.head(1)\n",
    "\n",
    "processingData[['link','snippet','imo_number']] = processingData.apply(lambda row: get_vessel_details(row['VESSEL']), axis=1, result_type='expand')\n",
    "\n",
    "processingData.to_csv(processingDataPath)"
   ]
  }
 ],
 "metadata": {
  "kernelspec": {
   "display_name": "NormalPorjectwithoutAI",
   "language": "python",
   "name": "python3"
  },
  "language_info": {
   "codemirror_mode": {
    "name": "ipython",
    "version": 3
   },
   "file_extension": ".py",
   "mimetype": "text/x-python",
   "name": "python",
   "nbconvert_exporter": "python",
   "pygments_lexer": "ipython3",
   "version": "3.8.18"
  }
 },
 "nbformat": 4,
 "nbformat_minor": 2
}

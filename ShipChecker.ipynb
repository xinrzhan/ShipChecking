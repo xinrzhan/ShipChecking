{
 "cells": [
  {
   "cell_type": "markdown",
   "metadata": {},
   "source": [
    "# ShipChecker"
   ]
  },
  {
   "cell_type": "markdown",
   "metadata": {},
   "source": [
    "## Configuration"
   ]
  },
  {
   "cell_type": "code",
   "execution_count": 7,
   "metadata": {},
   "outputs": [],
   "source": [
    "## raw data path\n",
    "rawDataPath = './portData/rawData.txt'\n",
    "\n",
    "## google search api path\n",
    "googleSearchApiPath = '../googleSearchApi.txt'\n",
    "## google search custom search engine id\n",
    "googleSearchCseIdPath = '../googleSearchCSE.txt'\n",
    "\n",
    "#Processingdata path\n",
    "processingDataPath = './processingData.csv'"
   ]
  },
  {
   "cell_type": "code",
   "execution_count": 8,
   "metadata": {},
   "outputs": [],
   "source": [
    "import pandas as pd\n",
    "import warnings\n",
    "import re\n",
    "import requests\n",
    "from bs4 import BeautifulSoup\n",
    "import asyncio\n",
    "import nest_asyncio\n",
    "\n",
    "from pyppeteer import launch\n",
    "from googleapiclient.discovery import build\n",
    "\n",
    "from pandas.errors import SettingWithCopyWarning\n",
    "warnings.simplefilter(action='ignore', category=(SettingWithCopyWarning))"
   ]
  },
  {
   "cell_type": "markdown",
   "metadata": {},
   "source": [
    "## Load data"
   ]
  },
  {
   "cell_type": "code",
   "execution_count": 9,
   "metadata": {},
   "outputs": [
    {
     "data": {
      "text/html": [
       "<div>\n",
       "<style scoped>\n",
       "    .dataframe tbody tr th:only-of-type {\n",
       "        vertical-align: middle;\n",
       "    }\n",
       "\n",
       "    .dataframe tbody tr th {\n",
       "        vertical-align: top;\n",
       "    }\n",
       "\n",
       "    .dataframe thead th {\n",
       "        text-align: right;\n",
       "    }\n",
       "</style>\n",
       "<table border=\"1\" class=\"dataframe\">\n",
       "  <thead>\n",
       "    <tr style=\"text-align: right;\">\n",
       "      <th></th>\n",
       "      <th>DATE &amp; TIME</th>\n",
       "      <th>ARRIVAL / DEPARTURE</th>\n",
       "      <th>VESSEL</th>\n",
       "      <th>VESSEL TYPE</th>\n",
       "      <th>FROM</th>\n",
       "      <th>TO</th>\n",
       "      <th>IN PORT</th>\n",
       "    </tr>\n",
       "  </thead>\n",
       "  <tbody>\n",
       "    <tr>\n",
       "      <th>0</th>\n",
       "      <td>Wed 20 Mar 20:00</td>\n",
       "      <td>ARRIVAL</td>\n",
       "      <td>KOTA LIMA</td>\n",
       "      <td>CONTAINER SHIP (FULLY CELLULAR)</td>\n",
       "      <td>CHIWAN PT</td>\n",
       "      <td>12 BROTHERSON DOCK (BD12)</td>\n",
       "      <td>NO</td>\n",
       "    </tr>\n",
       "    <tr>\n",
       "      <th>1</th>\n",
       "      <td>Wed 20 Mar 22:00</td>\n",
       "      <td>ARRIVAL</td>\n",
       "      <td>MSC KANU F</td>\n",
       "      <td>CONTAINER SHIP (FULLY CELLULAR)</td>\n",
       "      <td>BELL BAY</td>\n",
       "      <td>9 BROTHERSON DOCK (BD9)</td>\n",
       "      <td>NO</td>\n",
       "    </tr>\n",
       "    <tr>\n",
       "      <th>2</th>\n",
       "      <td>Thu 21 Mar 03:00</td>\n",
       "      <td>ARRIVAL</td>\n",
       "      <td>WIDE INDIA</td>\n",
       "      <td>CONTAINER SHIP (FULLY CELLULAR)</td>\n",
       "      <td>AUCKLAND</td>\n",
       "      <td>7 BROTHERSON DOCK (BD7)</td>\n",
       "      <td>NO</td>\n",
       "    </tr>\n",
       "    <tr>\n",
       "      <th>3</th>\n",
       "      <td>Thu 21 Mar 15:00</td>\n",
       "      <td>ARRIVAL</td>\n",
       "      <td>GASCHEM HOMER</td>\n",
       "      <td>LPG TANKER</td>\n",
       "      <td>BRISBANE</td>\n",
       "      <td>BULK LIQUID BERTH 1 (BLB1)</td>\n",
       "      <td>NO</td>\n",
       "    </tr>\n",
       "    <tr>\n",
       "      <th>4</th>\n",
       "      <td>Thu 21 Mar 17:00</td>\n",
       "      <td>ARRIVAL</td>\n",
       "      <td>MARI COUVA</td>\n",
       "      <td>CHEMICAL/PRODUCTS TANKER</td>\n",
       "      <td>ONSAN/ULSAN</td>\n",
       "      <td>BULK LIQUID BERTH 1 (BLB1)</td>\n",
       "      <td>NO</td>\n",
       "    </tr>\n",
       "  </tbody>\n",
       "</table>\n",
       "</div>"
      ],
      "text/plain": [
       "        DATE & TIME ARRIVAL / DEPARTURE         VESSEL  \\\n",
       "0  Wed 20 Mar 20:00             ARRIVAL      KOTA LIMA   \n",
       "1  Wed 20 Mar 22:00             ARRIVAL     MSC KANU F   \n",
       "2  Thu 21 Mar 03:00             ARRIVAL     WIDE INDIA   \n",
       "3  Thu 21 Mar 15:00             ARRIVAL  GASCHEM HOMER   \n",
       "4  Thu 21 Mar 17:00             ARRIVAL     MARI COUVA   \n",
       "\n",
       "                       VESSEL TYPE         FROM                          TO  \\\n",
       "0  CONTAINER SHIP (FULLY CELLULAR)    CHIWAN PT   12 BROTHERSON DOCK (BD12)   \n",
       "1  CONTAINER SHIP (FULLY CELLULAR)     BELL BAY     9 BROTHERSON DOCK (BD9)   \n",
       "2  CONTAINER SHIP (FULLY CELLULAR)     AUCKLAND     7 BROTHERSON DOCK (BD7)   \n",
       "3                       LPG TANKER     BRISBANE  BULK LIQUID BERTH 1 (BLB1)   \n",
       "4         CHEMICAL/PRODUCTS TANKER  ONSAN/ULSAN  BULK LIQUID BERTH 1 (BLB1)   \n",
       "\n",
       "  IN PORT  \n",
       "0      NO  \n",
       "1      NO  \n",
       "2      NO  \n",
       "3      NO  \n",
       "4      NO  "
      ]
     },
     "execution_count": 9,
     "metadata": {},
     "output_type": "execute_result"
    }
   ],
   "source": [
    "# load raw data and show the first 5 rows\n",
    "rawData = pd.read_csv(rawDataPath, sep='\\t')\n",
    "rawData.head(5)"
   ]
  },
  {
   "cell_type": "code",
   "execution_count": 10,
   "metadata": {},
   "outputs": [
    {
     "name": "stdout",
     "output_type": "stream",
     "text": [
      "AIzaS\n",
      "e0f84b16165d14dc2\n"
     ]
    }
   ],
   "source": [
    "# load google search api key and custom search engine id\n",
    "googleApiKey = open(googleSearchApiPath, 'r').read()\n",
    "print(googleApiKey[:5])\n",
    "googleSearchCseId = open(googleSearchCseIdPath, 'r').read()\n",
    "print(googleSearchCseId)"
   ]
  },
  {
   "cell_type": "code",
   "execution_count": 11,
   "metadata": {},
   "outputs": [],
   "source": [
    "# google search function and data extraction\n",
    "\n",
    "api_key = googleApiKey\n",
    "cse_id = googleSearchCseId\n",
    "\n",
    "def google_search(search_term, api_key, cse_id, **kwargs):\n",
    "    service = build(\"customsearch\", \"v1\", developerKey=api_key)\n",
    "    res = service.cse().list(q=search_term, cx=cse_id, **kwargs).execute()\n",
    "    return res\n",
    "\n",
    "def get_link(results):\n",
    "    link = results['items'][0]['link']\n",
    "    return link\n",
    "    \n",
    "def get_snippet(results):\n",
    "    snippet = results['items'][0]['snippet']\n",
    "    return snippet\n",
    "\n",
    "def get_IMO_number(snippet):\n",
    "    imo_number_match = re.search(r'IMO number, (\\d+)', snippet)\n",
    "    if imo_number_match:\n",
    "        imo_number = imo_number_match.group(1)\n",
    "    else:\n",
    "        imo_number = None  \n",
    "    return imo_number\n",
    "\n",
    "def get_vessel_details(vessel_name):\n",
    "    search_query = f\"what is imo number for {vessel_name}\"\n",
    "    results = google_search(search_query, api_key, cse_id)\n",
    "    link = get_link(results)\n",
    "    snippet = get_snippet(results)\n",
    "    imo_number = get_IMO_number(snippet)\n",
    "    \n",
    "    return link, snippet, imo_number"
   ]
  },
  {
   "cell_type": "code",
   "execution_count": 20,
   "metadata": {},
   "outputs": [],
   "source": [
    "processingData = rawData.head(1)\n",
    "\n",
    "processingData[['link','snippet','imo_number']] = processingData.apply(lambda row: get_vessel_details(row['VESSEL']), axis=1, result_type='expand')\n",
    "\n",
    "processingData.to_csv(processingDataPath)"
   ]
  },
  {
   "cell_type": "code",
   "execution_count": 21,
   "metadata": {},
   "outputs": [
    {
     "data": {
      "text/html": [
       "<div>\n",
       "<style scoped>\n",
       "    .dataframe tbody tr th:only-of-type {\n",
       "        vertical-align: middle;\n",
       "    }\n",
       "\n",
       "    .dataframe tbody tr th {\n",
       "        vertical-align: top;\n",
       "    }\n",
       "\n",
       "    .dataframe thead th {\n",
       "        text-align: right;\n",
       "    }\n",
       "</style>\n",
       "<table border=\"1\" class=\"dataframe\">\n",
       "  <thead>\n",
       "    <tr style=\"text-align: right;\">\n",
       "      <th></th>\n",
       "      <th>DATE &amp; TIME</th>\n",
       "      <th>ARRIVAL / DEPARTURE</th>\n",
       "      <th>VESSEL</th>\n",
       "      <th>VESSEL TYPE</th>\n",
       "      <th>FROM</th>\n",
       "      <th>TO</th>\n",
       "      <th>IN PORT</th>\n",
       "      <th>link</th>\n",
       "      <th>snippet</th>\n",
       "      <th>imo_number</th>\n",
       "    </tr>\n",
       "  </thead>\n",
       "  <tbody>\n",
       "    <tr>\n",
       "      <th>0</th>\n",
       "      <td>Wed 20 Mar 20:00</td>\n",
       "      <td>ARRIVAL</td>\n",
       "      <td>KOTA LIMA</td>\n",
       "      <td>CONTAINER SHIP (FULLY CELLULAR)</td>\n",
       "      <td>CHIWAN PT</td>\n",
       "      <td>12 BROTHERSON DOCK (BD12)</td>\n",
       "      <td>NO</td>\n",
       "      <td>https://www.vesselfinder.com/vessels/details/9...</td>\n",
       "      <td>IMO number, 9267651. Vessel Name, KOTA LIMA. S...</td>\n",
       "      <td>9267651</td>\n",
       "    </tr>\n",
       "  </tbody>\n",
       "</table>\n",
       "</div>"
      ],
      "text/plain": [
       "        DATE & TIME ARRIVAL / DEPARTURE     VESSEL  \\\n",
       "0  Wed 20 Mar 20:00             ARRIVAL  KOTA LIMA   \n",
       "\n",
       "                       VESSEL TYPE       FROM                         TO  \\\n",
       "0  CONTAINER SHIP (FULLY CELLULAR)  CHIWAN PT  12 BROTHERSON DOCK (BD12)   \n",
       "\n",
       "  IN PORT                                               link  \\\n",
       "0      NO  https://www.vesselfinder.com/vessels/details/9...   \n",
       "\n",
       "                                             snippet imo_number  \n",
       "0  IMO number, 9267651. Vessel Name, KOTA LIMA. S...    9267651  "
      ]
     },
     "execution_count": 21,
     "metadata": {},
     "output_type": "execute_result"
    }
   ],
   "source": [
    "\n",
    "processingData"
   ]
  },
  {
   "cell_type": "code",
   "execution_count": 23,
   "metadata": {},
   "outputs": [
    {
     "ename": "TypeError",
     "evalue": "Object of type Series is not JSON serializable",
     "output_type": "error",
     "traceback": [
      "\u001b[1;31m---------------------------------------------------------------------------\u001b[0m",
      "\u001b[1;31mTypeError\u001b[0m                                 Traceback (most recent call last)",
      "Cell \u001b[1;32mIn[23], line 60\u001b[0m\n\u001b[0;32m     57\u001b[0m     \u001b[38;5;28;01mreturn\u001b[39;00m reshaped_df\n\u001b[0;32m     59\u001b[0m \u001b[38;5;66;03m# 示例调用\u001b[39;00m\n\u001b[1;32m---> 60\u001b[0m result_df \u001b[38;5;241m=\u001b[39m \u001b[38;5;28;01mawait\u001b[39;00m process_data(processingData[\u001b[38;5;124m'\u001b[39m\u001b[38;5;124mlink\u001b[39m\u001b[38;5;124m'\u001b[39m])\n\u001b[0;32m     61\u001b[0m result_df\n",
      "Cell \u001b[1;32mIn[23], line 54\u001b[0m, in \u001b[0;36mprocess_data\u001b[1;34m(link)\u001b[0m\n\u001b[0;32m     52\u001b[0m \u001b[38;5;28;01masync\u001b[39;00m \u001b[38;5;28;01mdef\u001b[39;00m \u001b[38;5;21mprocess_data\u001b[39m(link):\n\u001b[0;32m     53\u001b[0m     url \u001b[38;5;241m=\u001b[39m link\n\u001b[1;32m---> 54\u001b[0m     html_content \u001b[38;5;241m=\u001b[39m \u001b[38;5;28;01mawait\u001b[39;00m scrape(url)\n\u001b[0;32m     55\u001b[0m     data \u001b[38;5;241m=\u001b[39m parse_html(html_content)\n\u001b[0;32m     56\u001b[0m     reshaped_df \u001b[38;5;241m=\u001b[39m reshape_data(data)\n",
      "Cell \u001b[1;32mIn[23], line 13\u001b[0m, in \u001b[0;36mscrape\u001b[1;34m(url)\u001b[0m\n\u001b[0;32m     11\u001b[0m page \u001b[38;5;241m=\u001b[39m \u001b[38;5;28;01mawait\u001b[39;00m browser\u001b[38;5;241m.\u001b[39mnewPage()\n\u001b[0;32m     12\u001b[0m \u001b[38;5;28;01mawait\u001b[39;00m page\u001b[38;5;241m.\u001b[39msetUserAgent(\u001b[38;5;124m'\u001b[39m\u001b[38;5;124mMy User Agent\u001b[39m\u001b[38;5;124m'\u001b[39m)\n\u001b[1;32m---> 13\u001b[0m \u001b[38;5;28;01mawait\u001b[39;00m page\u001b[38;5;241m.\u001b[39mgoto(url)\n\u001b[0;32m     14\u001b[0m \u001b[38;5;28;01mawait\u001b[39;00m page\u001b[38;5;241m.\u001b[39mwaitForSelector(\u001b[38;5;124m'\u001b[39m\u001b[38;5;124m#port-calls\u001b[39m\u001b[38;5;124m'\u001b[39m, {\u001b[38;5;124m'\u001b[39m\u001b[38;5;124mtimeout\u001b[39m\u001b[38;5;124m'\u001b[39m: \u001b[38;5;241m50000\u001b[39m})  \u001b[38;5;66;03m# 等待ID为port-calls的元素加载\u001b[39;00m\n\u001b[0;32m     16\u001b[0m \u001b[38;5;66;03m# 获取ID为port-calls的元素的HTML内容\u001b[39;00m\n",
      "File \u001b[1;32mh:\\anaconda\\envs\\NormalPorjectwithoutAI\\lib\\site-packages\\pyppeteer\\page.py:829\u001b[0m, in \u001b[0;36mPage.goto\u001b[1;34m(self, url, options, **kwargs)\u001b[0m\n\u001b[0;32m    826\u001b[0m timeout \u001b[38;5;241m=\u001b[39m options\u001b[38;5;241m.\u001b[39mget(\u001b[38;5;124m'\u001b[39m\u001b[38;5;124mtimeout\u001b[39m\u001b[38;5;124m'\u001b[39m, \u001b[38;5;28mself\u001b[39m\u001b[38;5;241m.\u001b[39m_defaultNavigationTimeout)\n\u001b[0;32m    827\u001b[0m watcher \u001b[38;5;241m=\u001b[39m NavigatorWatcher(\u001b[38;5;28mself\u001b[39m\u001b[38;5;241m.\u001b[39m_frameManager, mainFrame, timeout, options)\n\u001b[1;32m--> 829\u001b[0m result \u001b[38;5;241m=\u001b[39m \u001b[38;5;28;01mawait\u001b[39;00m \u001b[38;5;28mself\u001b[39m\u001b[38;5;241m.\u001b[39m_navigate(url, referrer)\n\u001b[0;32m    830\u001b[0m \u001b[38;5;28;01mif\u001b[39;00m result \u001b[38;5;129;01mis\u001b[39;00m \u001b[38;5;129;01mnot\u001b[39;00m \u001b[38;5;28;01mNone\u001b[39;00m:\n\u001b[0;32m    831\u001b[0m     \u001b[38;5;28;01mraise\u001b[39;00m PageError(result)\n",
      "File \u001b[1;32mh:\\anaconda\\envs\\NormalPorjectwithoutAI\\lib\\site-packages\\pyppeteer\\page.py:843\u001b[0m, in \u001b[0;36mPage._navigate\u001b[1;34m(self, url, referrer)\u001b[0m\n\u001b[0;32m    842\u001b[0m \u001b[38;5;28;01masync\u001b[39;00m \u001b[38;5;28;01mdef\u001b[39;00m \u001b[38;5;21m_navigate\u001b[39m(\u001b[38;5;28mself\u001b[39m, url: \u001b[38;5;28mstr\u001b[39m, referrer: \u001b[38;5;28mstr\u001b[39m) \u001b[38;5;241m-\u001b[39m\u001b[38;5;241m>\u001b[39m Optional[\u001b[38;5;28mstr\u001b[39m]:\n\u001b[1;32m--> 843\u001b[0m     response \u001b[38;5;241m=\u001b[39m \u001b[38;5;28;01mawait\u001b[39;00m \u001b[38;5;28;43mself\u001b[39;49m\u001b[38;5;241;43m.\u001b[39;49m\u001b[43m_client\u001b[49m\u001b[38;5;241;43m.\u001b[39;49m\u001b[43msend\u001b[49m\u001b[43m(\u001b[49m\u001b[38;5;124;43m'\u001b[39;49m\u001b[38;5;124;43mPage.navigate\u001b[39;49m\u001b[38;5;124;43m'\u001b[39;49m\u001b[43m,\u001b[49m\u001b[43m \u001b[49m\u001b[43m{\u001b[49m\u001b[38;5;124;43m'\u001b[39;49m\u001b[38;5;124;43murl\u001b[39;49m\u001b[38;5;124;43m'\u001b[39;49m\u001b[43m:\u001b[49m\u001b[43m \u001b[49m\u001b[43murl\u001b[49m\u001b[43m,\u001b[49m\u001b[43m \u001b[49m\u001b[38;5;124;43m'\u001b[39;49m\u001b[38;5;124;43mreferrer\u001b[39;49m\u001b[38;5;124;43m'\u001b[39;49m\u001b[43m:\u001b[49m\u001b[43m \u001b[49m\u001b[43mreferrer\u001b[49m\u001b[43m}\u001b[49m\u001b[43m)\u001b[49m\n\u001b[0;32m    844\u001b[0m     \u001b[38;5;28;01mif\u001b[39;00m response\u001b[38;5;241m.\u001b[39mget(\u001b[38;5;124m'\u001b[39m\u001b[38;5;124merrorText\u001b[39m\u001b[38;5;124m'\u001b[39m):\n\u001b[0;32m    845\u001b[0m         \u001b[38;5;28;01mreturn\u001b[39;00m \u001b[38;5;124mf\u001b[39m\u001b[38;5;124m'\u001b[39m\u001b[38;5;132;01m{\u001b[39;00mresponse[\u001b[38;5;124m\"\u001b[39m\u001b[38;5;124merrorText\u001b[39m\u001b[38;5;124m\"\u001b[39m]\u001b[38;5;132;01m}\u001b[39;00m\u001b[38;5;124m at \u001b[39m\u001b[38;5;132;01m{\u001b[39;00murl\u001b[38;5;132;01m}\u001b[39;00m\u001b[38;5;124m'\u001b[39m\n",
      "File \u001b[1;32mh:\\anaconda\\envs\\NormalPorjectwithoutAI\\lib\\site-packages\\pyppeteer\\connection.py:223\u001b[0m, in \u001b[0;36mCDPSession.send\u001b[1;34m(self, method, params)\u001b[0m\n\u001b[0;32m    221\u001b[0m \u001b[38;5;28mself\u001b[39m\u001b[38;5;241m.\u001b[39m_lastId \u001b[38;5;241m+\u001b[39m\u001b[38;5;241m=\u001b[39m \u001b[38;5;241m1\u001b[39m\n\u001b[0;32m    222\u001b[0m _id \u001b[38;5;241m=\u001b[39m \u001b[38;5;28mself\u001b[39m\u001b[38;5;241m.\u001b[39m_lastId\n\u001b[1;32m--> 223\u001b[0m msg \u001b[38;5;241m=\u001b[39m \u001b[43mjson\u001b[49m\u001b[38;5;241;43m.\u001b[39;49m\u001b[43mdumps\u001b[49m\u001b[43m(\u001b[49m\u001b[38;5;28;43mdict\u001b[39;49m\u001b[43m(\u001b[49m\u001b[38;5;28;43mid\u001b[39;49m\u001b[38;5;241;43m=\u001b[39;49m\u001b[43m_id\u001b[49m\u001b[43m,\u001b[49m\u001b[43m \u001b[49m\u001b[43mmethod\u001b[49m\u001b[38;5;241;43m=\u001b[39;49m\u001b[43mmethod\u001b[49m\u001b[43m,\u001b[49m\u001b[43m \u001b[49m\u001b[43mparams\u001b[49m\u001b[38;5;241;43m=\u001b[39;49m\u001b[43mparams\u001b[49m\u001b[43m)\u001b[49m\u001b[43m)\u001b[49m\n\u001b[0;32m    224\u001b[0m logger_session\u001b[38;5;241m.\u001b[39mdebug(\u001b[38;5;124mf\u001b[39m\u001b[38;5;124m'\u001b[39m\u001b[38;5;124mSEND: \u001b[39m\u001b[38;5;132;01m{\u001b[39;00mmsg\u001b[38;5;132;01m}\u001b[39;00m\u001b[38;5;124m'\u001b[39m)\n\u001b[0;32m    226\u001b[0m callback \u001b[38;5;241m=\u001b[39m \u001b[38;5;28mself\u001b[39m\u001b[38;5;241m.\u001b[39m_loop\u001b[38;5;241m.\u001b[39mcreate_future()\n",
      "File \u001b[1;32mh:\\anaconda\\envs\\NormalPorjectwithoutAI\\lib\\json\\__init__.py:231\u001b[0m, in \u001b[0;36mdumps\u001b[1;34m(obj, skipkeys, ensure_ascii, check_circular, allow_nan, cls, indent, separators, default, sort_keys, **kw)\u001b[0m\n\u001b[0;32m    226\u001b[0m \u001b[38;5;66;03m# cached encoder\u001b[39;00m\n\u001b[0;32m    227\u001b[0m \u001b[38;5;28;01mif\u001b[39;00m (\u001b[38;5;129;01mnot\u001b[39;00m skipkeys \u001b[38;5;129;01mand\u001b[39;00m ensure_ascii \u001b[38;5;129;01mand\u001b[39;00m\n\u001b[0;32m    228\u001b[0m     check_circular \u001b[38;5;129;01mand\u001b[39;00m allow_nan \u001b[38;5;129;01mand\u001b[39;00m\n\u001b[0;32m    229\u001b[0m     \u001b[38;5;28mcls\u001b[39m \u001b[38;5;129;01mis\u001b[39;00m \u001b[38;5;28;01mNone\u001b[39;00m \u001b[38;5;129;01mand\u001b[39;00m indent \u001b[38;5;129;01mis\u001b[39;00m \u001b[38;5;28;01mNone\u001b[39;00m \u001b[38;5;129;01mand\u001b[39;00m separators \u001b[38;5;129;01mis\u001b[39;00m \u001b[38;5;28;01mNone\u001b[39;00m \u001b[38;5;129;01mand\u001b[39;00m\n\u001b[0;32m    230\u001b[0m     default \u001b[38;5;129;01mis\u001b[39;00m \u001b[38;5;28;01mNone\u001b[39;00m \u001b[38;5;129;01mand\u001b[39;00m \u001b[38;5;129;01mnot\u001b[39;00m sort_keys \u001b[38;5;129;01mand\u001b[39;00m \u001b[38;5;129;01mnot\u001b[39;00m kw):\n\u001b[1;32m--> 231\u001b[0m     \u001b[38;5;28;01mreturn\u001b[39;00m \u001b[43m_default_encoder\u001b[49m\u001b[38;5;241;43m.\u001b[39;49m\u001b[43mencode\u001b[49m\u001b[43m(\u001b[49m\u001b[43mobj\u001b[49m\u001b[43m)\u001b[49m\n\u001b[0;32m    232\u001b[0m \u001b[38;5;28;01mif\u001b[39;00m \u001b[38;5;28mcls\u001b[39m \u001b[38;5;129;01mis\u001b[39;00m \u001b[38;5;28;01mNone\u001b[39;00m:\n\u001b[0;32m    233\u001b[0m     \u001b[38;5;28mcls\u001b[39m \u001b[38;5;241m=\u001b[39m JSONEncoder\n",
      "File \u001b[1;32mh:\\anaconda\\envs\\NormalPorjectwithoutAI\\lib\\json\\encoder.py:199\u001b[0m, in \u001b[0;36mJSONEncoder.encode\u001b[1;34m(self, o)\u001b[0m\n\u001b[0;32m    195\u001b[0m         \u001b[38;5;28;01mreturn\u001b[39;00m encode_basestring(o)\n\u001b[0;32m    196\u001b[0m \u001b[38;5;66;03m# This doesn't pass the iterator directly to ''.join() because the\u001b[39;00m\n\u001b[0;32m    197\u001b[0m \u001b[38;5;66;03m# exceptions aren't as detailed.  The list call should be roughly\u001b[39;00m\n\u001b[0;32m    198\u001b[0m \u001b[38;5;66;03m# equivalent to the PySequence_Fast that ''.join() would do.\u001b[39;00m\n\u001b[1;32m--> 199\u001b[0m chunks \u001b[38;5;241m=\u001b[39m \u001b[38;5;28;43mself\u001b[39;49m\u001b[38;5;241;43m.\u001b[39;49m\u001b[43miterencode\u001b[49m\u001b[43m(\u001b[49m\u001b[43mo\u001b[49m\u001b[43m,\u001b[49m\u001b[43m \u001b[49m\u001b[43m_one_shot\u001b[49m\u001b[38;5;241;43m=\u001b[39;49m\u001b[38;5;28;43;01mTrue\u001b[39;49;00m\u001b[43m)\u001b[49m\n\u001b[0;32m    200\u001b[0m \u001b[38;5;28;01mif\u001b[39;00m \u001b[38;5;129;01mnot\u001b[39;00m \u001b[38;5;28misinstance\u001b[39m(chunks, (\u001b[38;5;28mlist\u001b[39m, \u001b[38;5;28mtuple\u001b[39m)):\n\u001b[0;32m    201\u001b[0m     chunks \u001b[38;5;241m=\u001b[39m \u001b[38;5;28mlist\u001b[39m(chunks)\n",
      "File \u001b[1;32mh:\\anaconda\\envs\\NormalPorjectwithoutAI\\lib\\json\\encoder.py:257\u001b[0m, in \u001b[0;36mJSONEncoder.iterencode\u001b[1;34m(self, o, _one_shot)\u001b[0m\n\u001b[0;32m    252\u001b[0m \u001b[38;5;28;01melse\u001b[39;00m:\n\u001b[0;32m    253\u001b[0m     _iterencode \u001b[38;5;241m=\u001b[39m _make_iterencode(\n\u001b[0;32m    254\u001b[0m         markers, \u001b[38;5;28mself\u001b[39m\u001b[38;5;241m.\u001b[39mdefault, _encoder, \u001b[38;5;28mself\u001b[39m\u001b[38;5;241m.\u001b[39mindent, floatstr,\n\u001b[0;32m    255\u001b[0m         \u001b[38;5;28mself\u001b[39m\u001b[38;5;241m.\u001b[39mkey_separator, \u001b[38;5;28mself\u001b[39m\u001b[38;5;241m.\u001b[39mitem_separator, \u001b[38;5;28mself\u001b[39m\u001b[38;5;241m.\u001b[39msort_keys,\n\u001b[0;32m    256\u001b[0m         \u001b[38;5;28mself\u001b[39m\u001b[38;5;241m.\u001b[39mskipkeys, _one_shot)\n\u001b[1;32m--> 257\u001b[0m \u001b[38;5;28;01mreturn\u001b[39;00m \u001b[43m_iterencode\u001b[49m\u001b[43m(\u001b[49m\u001b[43mo\u001b[49m\u001b[43m,\u001b[49m\u001b[43m \u001b[49m\u001b[38;5;241;43m0\u001b[39;49m\u001b[43m)\u001b[49m\n",
      "File \u001b[1;32mh:\\anaconda\\envs\\NormalPorjectwithoutAI\\lib\\json\\encoder.py:179\u001b[0m, in \u001b[0;36mJSONEncoder.default\u001b[1;34m(self, o)\u001b[0m\n\u001b[0;32m    160\u001b[0m \u001b[38;5;28;01mdef\u001b[39;00m \u001b[38;5;21mdefault\u001b[39m(\u001b[38;5;28mself\u001b[39m, o):\n\u001b[0;32m    161\u001b[0m \u001b[38;5;250m    \u001b[39m\u001b[38;5;124;03m\"\"\"Implement this method in a subclass such that it returns\u001b[39;00m\n\u001b[0;32m    162\u001b[0m \u001b[38;5;124;03m    a serializable object for ``o``, or calls the base implementation\u001b[39;00m\n\u001b[0;32m    163\u001b[0m \u001b[38;5;124;03m    (to raise a ``TypeError``).\u001b[39;00m\n\u001b[1;32m   (...)\u001b[0m\n\u001b[0;32m    177\u001b[0m \n\u001b[0;32m    178\u001b[0m \u001b[38;5;124;03m    \"\"\"\u001b[39;00m\n\u001b[1;32m--> 179\u001b[0m     \u001b[38;5;28;01mraise\u001b[39;00m \u001b[38;5;167;01mTypeError\u001b[39;00m(\u001b[38;5;124mf\u001b[39m\u001b[38;5;124m'\u001b[39m\u001b[38;5;124mObject of type \u001b[39m\u001b[38;5;132;01m{\u001b[39;00mo\u001b[38;5;241m.\u001b[39m\u001b[38;5;18m__class__\u001b[39m\u001b[38;5;241m.\u001b[39m\u001b[38;5;18m__name__\u001b[39m\u001b[38;5;132;01m}\u001b[39;00m\u001b[38;5;124m \u001b[39m\u001b[38;5;124m'\u001b[39m\n\u001b[0;32m    180\u001b[0m                     \u001b[38;5;124mf\u001b[39m\u001b[38;5;124m'\u001b[39m\u001b[38;5;124mis not JSON serializable\u001b[39m\u001b[38;5;124m'\u001b[39m)\n",
      "\u001b[1;31mTypeError\u001b[0m: Object of type Series is not JSON serializable"
     ]
    }
   ],
   "source": [
    "# import asyncio\n",
    "# import nest_asyncio\n",
    "# import pandas as pd\n",
    "# from bs4 import BeautifulSoup\n",
    "# from pyppeteer import launch\n",
    "\n",
    "# nest_asyncio.apply()  # 应用nest_asyncio\n",
    "\n",
    "# async def scrape(url):\n",
    "#     browser = await launch(headless=True, args=['--no-sandbox'])\n",
    "#     page = await browser.newPage()\n",
    "#     await page.setUserAgent('My User Agent')\n",
    "#     await page.goto(url)\n",
    "#     await page.waitForSelector('#port-calls', {'timeout': 50000})  # 等待ID为port-calls的元素加载\n",
    "\n",
    "#     # 获取ID为port-calls的元素的HTML内容\n",
    "#     element = await page.querySelector('#port-calls')\n",
    "#     content = await page.evaluate('(element) => element.innerHTML', element)\n",
    "\n",
    "#     await browser.close()\n",
    "#     return content\n",
    "\n",
    "# def parse_html(html_content):\n",
    "#     # 使用BeautifulSoup解析HTML\n",
    "#     soup = BeautifulSoup(html_content, 'html.parser')\n",
    "\n",
    "#     # 找到所有相关的div元素\n",
    "#     divs = soup.find_all('div', class_='_1hgmG')\n",
    "\n",
    "#     # 解析数据\n",
    "#     data = []\n",
    "#     for div in divs:\n",
    "#         # 获取地点和到达时间\n",
    "#         location = div.find_previous_sibling('a').text.strip()\n",
    "#         arrival = div.find('div', class_='_1GQkK').text.strip()\n",
    "#         data.append({'location': location, 'Arrival': arrival})\n",
    "\n",
    "#     return data\n",
    "\n",
    "# def reshape_data(data):\n",
    "#     # 创建DataFrame\n",
    "#     df = pd.DataFrame(data)\n",
    "\n",
    "#     # 重塑DataFrame以使每个位置和到达成为单独的列\n",
    "#     reshaped_df = pd.DataFrame()\n",
    "#     for i, row in enumerate(df.itertuples(), 1):\n",
    "#         reshaped_df[f'location{i}'] = [row.location]\n",
    "#         reshaped_df[f'Arrival{i}'] = [row.Arrival]\n",
    "\n",
    "#     return reshaped_df\n",
    "\n",
    "# async def process_data(link):\n",
    "#     url = link\n",
    "#     html_content = await scrape(url)\n",
    "#     data = parse_html(html_content)\n",
    "#     reshaped_df = reshape_data(data)\n",
    "#     return reshaped_df\n",
    "\n",
    "# # 示例调用\n",
    "# result_df = await process_data(processingData['link'])\n",
    "# result_df\n"
   ]
  },
  {
   "cell_type": "code",
   "execution_count": null,
   "metadata": {},
   "outputs": [
    {
     "name": "stdout",
     "output_type": "stream",
     "text": [
      "<div><a href=\"/ports/AUBTB002\" class=\"flx _rLk t5UW5\"><span class=\"flag-icon _jFl3\" title=\"Australia\" style=\"background-image:url(https://static.vesselfinder.net/images/flags/4x3/au.svg)\"></span>Botany Bay, Australia</a><div class=\"flx _1hgmG\"><div class=\"_211eJ\"><div class=\"_2nufK\">Arrival (UTC)</div><div class=\"_1GQkK\">Mar 20, 09:48</div></div><div class=\"_211eJ\"><div class=\"_2nufK\">Departure (UTC)</div><div class=\"_1GQkK\">-</div></div><div class=\"_2q7TN\"><div class=\"_2nufK\">In Port</div><div class=\"_1GQkK\">-</div></div></div></div><div><a href=\"/ports/CNSZX001\" class=\"flx _rLk t5UW5\"><span class=\"flag-icon _jFl3\" title=\"China\" style=\"background-image:url(https://static.vesselfinder.net/images/flags/4x3/cn.svg)\"></span>Shenzhen, China</a><div class=\"flx _1hgmG\"><div class=\"_211eJ\"><div class=\"_2nufK\">Arrival (UTC)</div><div class=\"_1GQkK\">Mar 6, 21:03</div></div><div class=\"_211eJ\"><div class=\"_2nufK\">Departure (UTC)</div><div class=\"_1GQkK\">Mar 7, 09:14</div></div><div class=\"_2q7TN\"><div class=\"_2nufK\">In Port</div><div class=\"_1GQkK\">12h 11m</div></div></div></div><div><a href=\"/ports/CNNSA001\" class=\"flx _rLk t5UW5\"><span class=\"flag-icon _jFl3\" title=\"China\" style=\"background-image:url(https://static.vesselfinder.net/images/flags/4x3/cn.svg)\"></span>Nansha, China</a><div class=\"flx _1hgmG\"><div class=\"_211eJ\"><div class=\"_2nufK\">Arrival (UTC)</div><div class=\"_1GQkK\">Mar 5, 21:15</div></div><div class=\"_211eJ\"><div class=\"_2nufK\">Departure (UTC)</div><div class=\"_1GQkK\">Mar 6, 10:06</div></div><div class=\"_2q7TN\"><div class=\"_2nufK\">In Port</div><div class=\"_1GQkK\">12h 50m</div></div></div></div><div><a href=\"/ports/CNSHG002\" class=\"flx _rLk t5UW5\"><span class=\"flag-icon _jFl3\" title=\"China\" style=\"background-image:url(https://static.vesselfinder.net/images/flags/4x3/cn.svg)\"></span>Shanghai, China</a><div class=\"flx _1hgmG\"><div class=\"_211eJ\"><div class=\"_2nufK\">Arrival (UTC)</div><div class=\"_1GQkK\">Mar 2, 18:57</div></div><div class=\"_211eJ\"><div class=\"_2nufK\">Departure (UTC)</div><div class=\"_1GQkK\">Mar 3, 08:04</div></div><div class=\"_2q7TN\"><div class=\"_2nufK\">In Port</div><div class=\"_1GQkK\">13h 6m</div></div></div></div><div><a href=\"/ports/CNQDG002\" class=\"flx _rLk t5UW5\"><span class=\"flag-icon _jFl3\" title=\"China\" style=\"background-image:url(https://static.vesselfinder.net/images/flags/4x3/cn.svg)\"></span>Qingdao, China</a><div class=\"flx _1hgmG\"><div class=\"_211eJ\"><div class=\"_2nufK\">Arrival (UTC)</div><div class=\"_1GQkK\">Feb 29, 10:28</div></div><div class=\"_211eJ\"><div class=\"_2nufK\">Departure (UTC)</div><div class=\"_1GQkK\">Mar 1, 13:07</div></div><div class=\"_2q7TN\"><div class=\"_2nufK\">In Port</div><div class=\"_1GQkK\">1d 2h</div></div></div></div>\n"
     ]
    }
   ],
   "source": [
    "\n",
    "\n",
    "nest_asyncio.apply()  # 应用nest_asyncio\n",
    "\n",
    "async def scrape(url):\n",
    "    browser = await launch(headless=True, args=['--no-sandbox'])\n",
    "    page = await browser.newPage()\n",
    "    await page.setUserAgent('My User Agent')\n",
    "    await page.goto(url)\n",
    "    await page.waitForSelector('#port-calls', {'timeout': 50000})  # 等待ID为port-calls的元素加载\n",
    "\n",
    "    # 获取ID为port-calls的元素的HTML内容\n",
    "    element = await page.querySelector('#port-calls')\n",
    "    content = await page.evaluate('(element) => element.innerHTML', element)\n",
    "\n",
    "    await browser.close()\n",
    "    return content\n",
    "\n",
    "url = 'https://www.vesselfinder.com/vessels/details/9267651'\n",
    "\n",
    "# 在Jupyter notebook中运行异步代码\n",
    "div_content = await scrape(url)\n",
    "\n",
    "# 打印div中的内容\n",
    "print(div_content)\n"
   ]
  },
  {
   "cell_type": "code",
   "execution_count": null,
   "metadata": {},
   "outputs": [
    {
     "name": "stdout",
     "output_type": "stream",
     "text": [
      "               location1       Arrival1        location2      Arrival2  \\\n",
      "0  Botany Bay, Australia  Mar 20, 09:48  Shenzhen, China  Mar 6, 21:03   \n",
      "\n",
      "       location3      Arrival3        location4      Arrival4       location5  \\\n",
      "0  Nansha, China  Mar 5, 21:15  Shanghai, China  Mar 2, 18:57  Qingdao, China   \n",
      "\n",
      "        Arrival5  \n",
      "0  Feb 29, 10:28  \n"
     ]
    }
   ],
   "source": [
    "\n",
    "# 假定 html_content 包含了你的HTML内容\n",
    "html_content = div_content\n",
    "\n",
    "# 使用BeautifulSoup解析HTML\n",
    "soup = BeautifulSoup(html_content, 'html.parser')\n",
    "\n",
    "# 找到所有相关的div元素\n",
    "divs = soup.find_all('div', class_='_1hgmG')\n",
    "\n",
    "# 解析数据\n",
    "data = []\n",
    "for div in divs:\n",
    "    # 获取地点和到达时间\n",
    "    location = div.find_previous_sibling('a').text.strip()\n",
    "    arrival = div.find('div', class_='_1GQkK').text.strip()\n",
    "    data.append({'location': location, 'Arrival': arrival})\n",
    "\n",
    "# 创建DataFrame\n",
    "df = pd.DataFrame(data)\n",
    "\n",
    "# 重塑DataFrame以使每个位置和到达成为单独的列\n",
    "reshaped_df = pd.DataFrame()\n",
    "for i, row in enumerate(df.itertuples(), 1):\n",
    "    reshaped_df[f'location{i}'] = [row.location]\n",
    "    reshaped_df[f'Arrival{i}'] = [row.Arrival]\n",
    "\n",
    "print(reshaped_df)\n"
   ]
  }
 ],
 "metadata": {
  "kernelspec": {
   "display_name": "NormalPorjectwithoutAI",
   "language": "python",
   "name": "python3"
  },
  "language_info": {
   "codemirror_mode": {
    "name": "ipython",
    "version": 3
   },
   "file_extension": ".py",
   "mimetype": "text/x-python",
   "name": "python",
   "nbconvert_exporter": "python",
   "pygments_lexer": "ipython3",
   "version": "3.8.18"
  }
 },
 "nbformat": 4,
 "nbformat_minor": 2
}
